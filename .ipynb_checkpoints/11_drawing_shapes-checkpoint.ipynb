{
 "cells": [
  {
   "cell_type": "code",
   "execution_count": 2,
   "metadata": {},
   "outputs": [],
   "source": [
    "import cv2\n",
    "import numpy as np"
   ]
  },
  {
   "cell_type": "code",
   "execution_count": 9,
   "metadata": {},
   "outputs": [],
   "source": [
    "img = np.ones((500, 500, 3)) * 255\n",
    "\n",
    "cv2.line(img, (0, 0), (150, 190), (255, 0, 0), 2)\n",
    "cv2.rectangle(img, (100, 25), (300, 150), (0, 255, 0), 4)\n",
    "\n",
    "#中心、半径、色、塗りつぶすかどうか→-1→塗りつぶす\n",
    "cv2.circle(img, (100, 100), 55, (0, 0, 255), -1)\n",
    "\n",
    "#（楕円）中心、長軸、短軸、傾き(度)、0~360度、色、太さ\n",
    "cv2.ellipse(img, (250, 250), (100, 50), 20, 0, 360, (255, 0, 0), 1)\n",
    "\n",
    "pts = np.array([[100, 30], [200, 30], [200, 80], [100, 50]])\n",
    "cv2.polylines(img, [pts], True, (100, 255, 0), 3)\n",
    "\n",
    "#画像に文字を表示させる\n",
    "font = cv2.FONT_HERSHEY_SIMPLEX\n",
    "cv2.putText(img, \"OpenCV\", (100, 300), font, 1, (0, 255, 0), 3, cv2.LINE_AA)\n",
    "\n",
    "cv2.imshow(\"img\", img)\n",
    "cv2.waitKey(0)\n",
    "cv2.destroyAllWindows()"
   ]
  },
  {
   "cell_type": "code",
   "execution_count": null,
   "metadata": {},
   "outputs": [],
   "source": []
  }
 ],
 "metadata": {
  "kernelspec": {
   "display_name": "Python 3",
   "language": "python",
   "name": "python3"
  },
  "language_info": {
   "codemirror_mode": {
    "name": "ipython",
    "version": 3
   },
   "file_extension": ".py",
   "mimetype": "text/x-python",
   "name": "python",
   "nbconvert_exporter": "python",
   "pygments_lexer": "ipython3",
   "version": "3.6.2"
  }
 },
 "nbformat": 4,
 "nbformat_minor": 2
}
