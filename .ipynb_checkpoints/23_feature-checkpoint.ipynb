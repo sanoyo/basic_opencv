{
 "cells": [
  {
   "cell_type": "code",
   "execution_count": 10,
   "metadata": {},
   "outputs": [],
   "source": [
    "import cv2\n",
    "import numpy as np\n",
    "import copy"
   ]
  },
  {
   "cell_type": "code",
   "execution_count": 14,
   "metadata": {},
   "outputs": [],
   "source": [
    "img = cv2.imread(\"src/buildings.jpg\")\n",
    "img_g = cv2.imread(\"src/buildings.jpg\", 0)"
   ]
  },
  {
   "cell_type": "code",
   "execution_count": 15,
   "metadata": {},
   "outputs": [],
   "source": [
    "img_harris = copy.deepcopy(img)\n",
    "img_dst = cv2.cornerHarris(img_g, 2, 3, 0.04)"
   ]
  },
  {
   "cell_type": "code",
   "execution_count": 16,
   "metadata": {},
   "outputs": [
    {
     "data": {
      "text/plain": [
       "array([[ 4.5360382e-12,  4.5360382e-12,  1.1455559e-12, ...,\n",
       "         3.5410072e-10,  1.2930142e-10, -5.0405020e-11],\n",
       "       [ 4.5360382e-12,  4.5360382e-12,  1.1455559e-12, ...,\n",
       "         3.5410072e-10,  1.2930142e-10, -5.0405020e-11],\n",
       "       [ 4.2316191e-09,  4.2316191e-09,  3.0776899e-09, ...,\n",
       "        -5.2589849e-10,  3.0621861e-10,  2.3705888e-09],\n",
       "       ...,\n",
       "       [ 6.4994938e-09,  6.4994938e-09,  2.3405631e-09, ...,\n",
       "         3.6491898e-10,  1.3303378e-10,  6.5685435e-12],\n",
       "       [ 2.8279750e-09,  2.8279750e-09,  4.5132729e-09, ...,\n",
       "         8.2739607e-11,  8.2222243e-11,  7.3907677e-12],\n",
       "       [ 1.7488399e-09,  1.7488399e-09,  7.3175594e-09, ...,\n",
       "         5.8581057e-11,  2.4574284e-12,  3.2888904e-12]], dtype=float32)"
      ]
     },
     "execution_count": 16,
     "metadata": {},
     "output_type": "execute_result"
    }
   ],
   "source": [
    "img_dst"
   ]
  },
  {
   "cell_type": "code",
   "execution_count": 17,
   "metadata": {},
   "outputs": [],
   "source": [
    "img_harris[img_dst > 0.05 * img_dst.max()] = [0, 0, 255]"
   ]
  },
  {
   "cell_type": "code",
   "execution_count": 19,
   "metadata": {},
   "outputs": [],
   "source": [
    "cv2.imshow(\"img\", img_harris)\n",
    "cv2.waitKey(0)\n",
    "cv2.destroyAllWindows()"
   ]
  },
  {
   "cell_type": "code",
   "execution_count": 21,
   "metadata": {},
   "outputs": [],
   "source": [
    "img_kaze = copy.deepcopy(img)\n",
    "kaze = cv2.AKAZE_create()\n",
    "kp1 = kaze.detect(img, None)\n",
    "img_kaze = cv2.drawKeypoints(img_kaze, kp1, None)\n",
    "cv2.waitKey(0)\n",
    "cv2.destroyAllWindows()"
   ]
  },
  {
   "cell_type": "code",
   "execution_count": 34,
   "metadata": {},
   "outputs": [],
   "source": [
    "img_orb = copy.deepcopy(img)\n",
    "orb = cv2.ORB_create()\n",
    "kp2 = kaze.detect(img_orb)\n",
    "img_orb = cv2.drawKeypoints(img_orb, kp2, None)\n",
    "cv2.waitKey(0)\n",
    "cv2.destroyAllWindows()"
   ]
  },
  {
   "cell_type": "code",
   "execution_count": 36,
   "metadata": {},
   "outputs": [],
   "source": [
    "cv2.imshow(\"Harris\", img_harris)\n",
    "cv2.imshow(\"ORB\",img_orb)\n",
    "cv2.imshow(\"Akaze\", img_kaze)\n",
    "cv2.waitKey(0)\n",
    "cv2.destroyAllWindows()"
   ]
  },
  {
   "cell_type": "code",
   "execution_count": null,
   "metadata": {},
   "outputs": [],
   "source": []
  }
 ],
 "metadata": {
  "kernelspec": {
   "display_name": "Python 3",
   "language": "python",
   "name": "python3"
  },
  "language_info": {
   "codemirror_mode": {
    "name": "ipython",
    "version": 3
   },
   "file_extension": ".py",
   "mimetype": "text/x-python",
   "name": "python",
   "nbconvert_exporter": "python",
   "pygments_lexer": "ipython3",
   "version": "3.6.2"
  }
 },
 "nbformat": 4,
 "nbformat_minor": 2
}
