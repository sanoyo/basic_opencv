{
 "cells": [
  {
   "cell_type": "code",
   "execution_count": 1,
   "metadata": {},
   "outputs": [],
   "source": [
    "import cv2\n",
    "import sys"
   ]
  },
  {
   "cell_type": "code",
   "execution_count": 3,
   "metadata": {},
   "outputs": [],
   "source": [
    "cap = cv2.VideoCapture(\"movie/Cosmos.mp4\")\n",
    "if cap.isOpened() ==False:\n",
    "    sys.exit()\n",
    "#ret→真偽値, frame→実際の画像\n",
    "ret, frame = cap.read()\n",
    "h, w = frame.shape[:2]\n",
    "fourcc = cv2.VideoWriter_fourcc(*\"XVID\")\n",
    "dst = cv2.VideoWriter(\"output/test.avi\", fourcc, 30.0, (w, h))\n",
    "\n",
    "while True:\n",
    "    ret, frame = cap.read()\n",
    "    if ret == False:\n",
    "        break\n",
    "    cv2.imshow(\"img\", frame)\n",
    "    dst.write(frame)\n",
    "    #27はescapキー\n",
    "    if cv2.waitKey(30) == 27:\n",
    "        break\n",
    "cv2.destroyAllWindows()\n",
    "cap.release()"
   ]
  },
  {
   "cell_type": "code",
   "execution_count": null,
   "metadata": {},
   "outputs": [],
   "source": []
  }
 ],
 "metadata": {
  "kernelspec": {
   "display_name": "Python 3",
   "language": "python",
   "name": "python3"
  },
  "language_info": {
   "codemirror_mode": {
    "name": "ipython",
    "version": 3
   },
   "file_extension": ".py",
   "mimetype": "text/x-python",
   "name": "python",
   "nbconvert_exporter": "python",
   "pygments_lexer": "ipython3",
   "version": "3.6.2"
  }
 },
 "nbformat": 4,
 "nbformat_minor": 2
}
