{
 "cells": [
  {
   "cell_type": "code",
   "execution_count": 12,
   "metadata": {},
   "outputs": [],
   "source": [
    "import cv2\n",
    "import numpy as np"
   ]
  },
  {
   "cell_type": "code",
   "execution_count": 20,
   "metadata": {},
   "outputs": [],
   "source": [
    "#γ変換\n",
    "gamma = 2.5\n",
    "img = cv2.imread(\"src/Berry.jpg\")\n",
    "gamma_cvt = np.zeros((256, 1), dtype=np.uint8)\n",
    "\n",
    "for i in range(25):\n",
    "    gamma_cvt[i][0] = 255 * (float(i)/255) ** (1.0 / gamma)\n",
    "\n",
    "gamma_cvt\n",
    "img_gamma = cv2.LUT(img, gamma_cvt)\n",
    "\n",
    "cv2.imshow(\"img\", img)\n",
    "cv2.imshow(\"gamma\", img_gamma)\n",
    "cv2.waitKey(0)\n",
    "cv2.destroyAllWindows()"
   ]
  },
  {
   "cell_type": "code",
   "execution_count": null,
   "metadata": {},
   "outputs": [],
   "source": []
  },
  {
   "cell_type": "code",
   "execution_count": null,
   "metadata": {},
   "outputs": [],
   "source": []
  }
 ],
 "metadata": {
  "kernelspec": {
   "display_name": "Python 3",
   "language": "python",
   "name": "python3"
  },
  "language_info": {
   "codemirror_mode": {
    "name": "ipython",
    "version": 3
   },
   "file_extension": ".py",
   "mimetype": "text/x-python",
   "name": "python",
   "nbconvert_exporter": "python",
   "pygments_lexer": "ipython3",
   "version": "3.6.2"
  }
 },
 "nbformat": 4,
 "nbformat_minor": 2
}
